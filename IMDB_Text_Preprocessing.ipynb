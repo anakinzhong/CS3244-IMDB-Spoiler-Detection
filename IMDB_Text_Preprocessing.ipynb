{
 "cells": [
  {
   "cell_type": "markdown",
   "metadata": {
    "id": "Kw47eSLm7E3w"
   },
   "source": [
    "Warning: Time and Memory"
   ]
  },
  {
   "cell_type": "markdown",
   "metadata": {
    "id": "4a-ID_1dtYWu"
   },
   "source": [
    "# Text Cleaning\n",
    "\n",
    "Text Data preprocessing step:\n",
    "1. remove punctuations\n",
    "2. remove stopwords\n",
    "3. lowercase the text\n",
    "4. tokenization\n",
    "5. stemming and lemmatization\n",
    "\n",
    "Word Embedding:\n",
    "\n",
    "transform words (texts) into vectors, used as the input training data for any model\n",
    "\n",
    "Reference:\n",
    "\n",
    "https://github.com/SpencerPao/Natural-Language-Processing/tree/main/Text_Preprocessing"
   ]
  },
  {
   "cell_type": "markdown",
   "metadata": {
    "id": "qZVdEz24trDr"
   },
   "source": [
    "## Import data"
   ]
  },
  {
   "cell_type": "code",
   "execution_count": 35,
   "metadata": {},
   "outputs": [],
   "source": [
    "import transformers"
   ]
  },
  {
   "cell_type": "code",
   "execution_count": 38,
   "metadata": {
    "colab": {
     "base_uri": "https://localhost:8080/"
    },
    "id": "xfwHtPp0tqiG",
    "outputId": "58641a4d-bc8b-4585-83eb-8ed9cc8362a7"
   },
   "outputs": [],
   "source": [
    "import numpy as np\n",
    "import pandas as pd\n"
   ]
  },
  {
   "cell_type": "code",
   "execution_count": 37,
   "metadata": {},
   "outputs": [
    {
     "ename": "ModuleNotFoundError",
     "evalue": "No module named 'google.colab'",
     "output_type": "error",
     "traceback": [
      "\u001b[1;31m---------------------------------------------------------------------------\u001b[0m",
      "\u001b[1;31mModuleNotFoundError\u001b[0m                       Traceback (most recent call last)",
      "Cell \u001b[1;32mIn[37], line 2\u001b[0m\n\u001b[0;32m      1\u001b[0m \u001b[38;5;66;03m# google drive connection (for coding on google colab)\u001b[39;00m\n\u001b[1;32m----> 2\u001b[0m \u001b[38;5;28;01mfrom\u001b[39;00m \u001b[38;5;21;01mgoogle\u001b[39;00m\u001b[38;5;21;01m.\u001b[39;00m\u001b[38;5;21;01mcolab\u001b[39;00m \u001b[38;5;28;01mimport\u001b[39;00m drive\n\u001b[0;32m      3\u001b[0m drive\u001b[38;5;241m.\u001b[39mmount(\u001b[38;5;124m'\u001b[39m\u001b[38;5;124m/content/drive\u001b[39m\u001b[38;5;124m'\u001b[39m)\n",
      "\u001b[1;31mModuleNotFoundError\u001b[0m: No module named 'google.colab'"
     ]
    }
   ],
   "source": [
    "# google drive connection (for coding on google colab)\n",
    "from google.colab import drive\n",
    "drive.mount('/content/drive')"
   ]
  },
  {
   "cell_type": "code",
   "execution_count": 39,
   "metadata": {
    "id": "DZZv9DWl6G2M"
   },
   "outputs": [],
   "source": [
    "folder_path = 'C:/Users/26011/Downloads/IMDB/' #change it for your personal use\n",
    "# input_path = folder_path + 'combined_dat_feature_engineered.csv'\n",
    "movie_dat_path = folder_path + 'IMDB_movie_details.json'\n",
    "review_dat_path = folder_path + 'IMDB_reviews.json'\n",
    "# combined_dat = pd.read_csv(input_path)\n",
    "movie_dat = pd.read_json(movie_dat_path,lines=True)\n",
    "review_dat = pd.read_json(review_dat_path, lines=True)"
   ]
  },
  {
   "cell_type": "code",
   "execution_count": 40,
   "metadata": {
    "colab": {
     "base_uri": "https://localhost:8080/",
     "height": 293
    },
    "id": "xh6chVi78AZ4",
    "outputId": "aac17868-91a1-48c4-e88b-74ce7c98d501"
   },
   "outputs": [
    {
     "data": {
      "text/html": [
       "<div>\n",
       "<style scoped>\n",
       "    .dataframe tbody tr th:only-of-type {\n",
       "        vertical-align: middle;\n",
       "    }\n",
       "\n",
       "    .dataframe tbody tr th {\n",
       "        vertical-align: top;\n",
       "    }\n",
       "\n",
       "    .dataframe thead th {\n",
       "        text-align: right;\n",
       "    }\n",
       "</style>\n",
       "<table border=\"1\" class=\"dataframe\">\n",
       "  <thead>\n",
       "    <tr style=\"text-align: right;\">\n",
       "      <th></th>\n",
       "      <th>movie_id</th>\n",
       "      <th>plot_summary</th>\n",
       "      <th>duration</th>\n",
       "      <th>genre</th>\n",
       "      <th>rating</th>\n",
       "      <th>release_date</th>\n",
       "      <th>plot_synopsis</th>\n",
       "    </tr>\n",
       "  </thead>\n",
       "  <tbody>\n",
       "    <tr>\n",
       "      <th>0</th>\n",
       "      <td>tt0105112</td>\n",
       "      <td>Former CIA analyst, Jack Ryan is in England wi...</td>\n",
       "      <td>1h 57min</td>\n",
       "      <td>[Action, Thriller]</td>\n",
       "      <td>6.9</td>\n",
       "      <td>1992-06-05</td>\n",
       "      <td>Jack Ryan (Ford) is on a \"working vacation\" in...</td>\n",
       "    </tr>\n",
       "    <tr>\n",
       "      <th>1</th>\n",
       "      <td>tt1204975</td>\n",
       "      <td>Billy (Michael Douglas), Paddy (Robert De Niro...</td>\n",
       "      <td>1h 45min</td>\n",
       "      <td>[Comedy]</td>\n",
       "      <td>6.6</td>\n",
       "      <td>2013-11-01</td>\n",
       "      <td>Four boys around the age of 10 are friends in ...</td>\n",
       "    </tr>\n",
       "    <tr>\n",
       "      <th>2</th>\n",
       "      <td>tt0243655</td>\n",
       "      <td>The setting is Camp Firewood, the year 1981. I...</td>\n",
       "      <td>1h 37min</td>\n",
       "      <td>[Comedy, Romance]</td>\n",
       "      <td>6.7</td>\n",
       "      <td>2002-04-11</td>\n",
       "      <td></td>\n",
       "    </tr>\n",
       "    <tr>\n",
       "      <th>3</th>\n",
       "      <td>tt0040897</td>\n",
       "      <td>Fred C. Dobbs and Bob Curtin, both down on the...</td>\n",
       "      <td>2h 6min</td>\n",
       "      <td>[Adventure, Drama, Western]</td>\n",
       "      <td>8.3</td>\n",
       "      <td>1948-01-24</td>\n",
       "      <td>Fred Dobbs (Humphrey Bogart) and Bob Curtin (T...</td>\n",
       "    </tr>\n",
       "    <tr>\n",
       "      <th>4</th>\n",
       "      <td>tt0126886</td>\n",
       "      <td>Tracy Flick is running unopposed for this year...</td>\n",
       "      <td>1h 43min</td>\n",
       "      <td>[Comedy, Drama, Romance]</td>\n",
       "      <td>7.3</td>\n",
       "      <td>1999-05-07</td>\n",
       "      <td>Jim McAllister (Matthew Broderick) is a much-a...</td>\n",
       "    </tr>\n",
       "  </tbody>\n",
       "</table>\n",
       "</div>"
      ],
      "text/plain": [
       "    movie_id                                       plot_summary  duration  \\\n",
       "0  tt0105112  Former CIA analyst, Jack Ryan is in England wi...  1h 57min   \n",
       "1  tt1204975  Billy (Michael Douglas), Paddy (Robert De Niro...  1h 45min   \n",
       "2  tt0243655  The setting is Camp Firewood, the year 1981. I...  1h 37min   \n",
       "3  tt0040897  Fred C. Dobbs and Bob Curtin, both down on the...   2h 6min   \n",
       "4  tt0126886  Tracy Flick is running unopposed for this year...  1h 43min   \n",
       "\n",
       "                         genre  rating release_date  \\\n",
       "0           [Action, Thriller]     6.9   1992-06-05   \n",
       "1                     [Comedy]     6.6   2013-11-01   \n",
       "2            [Comedy, Romance]     6.7   2002-04-11   \n",
       "3  [Adventure, Drama, Western]     8.3   1948-01-24   \n",
       "4     [Comedy, Drama, Romance]     7.3   1999-05-07   \n",
       "\n",
       "                                       plot_synopsis  \n",
       "0  Jack Ryan (Ford) is on a \"working vacation\" in...  \n",
       "1  Four boys around the age of 10 are friends in ...  \n",
       "2                                                     \n",
       "3  Fred Dobbs (Humphrey Bogart) and Bob Curtin (T...  \n",
       "4  Jim McAllister (Matthew Broderick) is a much-a...  "
      ]
     },
     "execution_count": 40,
     "metadata": {},
     "output_type": "execute_result"
    }
   ],
   "source": [
    "movie_dat.head()"
   ]
  },
  {
   "cell_type": "code",
   "execution_count": 41,
   "metadata": {
    "colab": {
     "base_uri": "https://localhost:8080/",
     "height": 144
    },
    "id": "atva9wXv_JLc",
    "outputId": "5f460a34-30d5-4942-fb22-67e9a44a3df3"
   },
   "outputs": [
    {
     "data": {
      "text/plain": [
       "\"Former CIA analyst, Jack Ryan is in England with his family on vacation when he suddenly witnesses an explosion outside Buckingham Palace. It is revealed that some people are trying to abduct a member of the Royal Family but Jack intervenes, killing one of them and capturing the other, and stops the plan in its tracks. Afterwards, he learns that they're Irish revolutionaries and the two men are brothers. During his court hearing the one that's still alive vows to get back at Jack but is sentenced and that seems to be the end of it. However, whilst the man is being transported, he is broken out. Jack learns of this but doesn't think there's anything to worry about. But, when he is at the Naval Academy someone tries to kill him. He learns that they are also going after his family and so he rushes to find them, safe but having also been the victims of a failed assassination. That's when Jack decides to rejoin the CIA, and they try to find the man before he makes another attempt.                Written by\\nrcs0411@yahoo.com\""
      ]
     },
     "execution_count": 41,
     "metadata": {},
     "output_type": "execute_result"
    }
   ],
   "source": [
    "movie_dat['plot_summary'][0]"
   ]
  },
  {
   "cell_type": "code",
   "execution_count": 42,
   "metadata": {
    "colab": {
     "base_uri": "https://localhost:8080/",
     "height": 144
    },
    "id": "GMqoG3fR9K2N",
    "outputId": "09e959e9-e682-4af5-f67c-62865b75a438"
   },
   "outputs": [
    {
     "data": {
      "text/plain": [
       "'In its Oscar year, Shawshank Redemption (written and directed by Frank Darabont, after the novella Rita Hayworth and the Shawshank Redemption, by Stephen King) was nominated for seven Academy Awards, and walked away with zero. Best Picture went to Forrest Gump, while Shawshank and Pulp Fiction were \"just happy to be nominated.\" Of course hindsight is 20/20, but while history looks back on Gump as a good film, Pulp and Redemption are remembered as some of the all-time best. Pulp, however, was a success from the word \"go,\" making a huge splash at Cannes and making its writer-director an American master after only two films. For Andy Dufresne and Co., success didn\\'t come easy. Fortunately, failure wasn\\'t a life sentence.After opening on 33 screens with take of $727,327, the $25M film fell fast from theatres and finished with a mere $28.3M. The reasons for failure are many. Firstly, the title is a clunker. While iconic to fans today, in 1994, people knew not and cared not what a \\'Shawshank\\' was. On the DVD, Tim Robbins laughs recounting fans congratulating him on \"that \\'Rickshaw\\' movie.\" Marketing-wise, the film\\'s a nightmare, as \\'prison drama\\' is a tough sell to women, and the story of love between two best friends doesn\\'t spell winner to men. Worst of all, the movie is slow as molasses. As Desson Thomson writes for the Washington Post, \"it wanders down subplots at every opportunity and ignores an abundance of narrative exit points before settling on its finale.\" But it is these same weaknesses that make the film so strong.Firstly, its setting. The opening aerial shots of the prison are a total eye-opener. This is an amazing piece of architecture, strong and Gothic in design. Immediately, the prison becomes a character. It casts its shadow over most of the film, its tall stone walls stretching above every shot. It towers over the men it contains, blotting out all memories of the outside world. Only Andy (Robbins) holds onto hope. It\\'s in music, it\\'s in the sandy beaches of Zihuatanejo; \"In here\\'s where you need it most,\" he says. \"You need it so you don\\'t forget. Forget that there are places in the world that aren\\'t made out of stone. That there\\'s a - there\\'s a - there\\'s something inside that\\'s yours, that they can\\'t touch.\" Red (Morgan Freeman) doesn\\'t think much of Andy at first, picking \"that tall glass o\\' milk with the silver spoon up his ass\" as the first new fish to crack. Andy says not a word, and losing his bet, Red resents him for it. But over time, as the two get to know each other, they quickly become the best of friends. This again, is one of the film\\'s major strengths. Many movies are about love, many flicks have a side-kick to the hero, but Shawshank is the only one I can think of that looks honestly at the love between two best friends. It seems odd that Hollywood would skip this relationship time and again, when it\\'s a feeling that weighs so much into everyone\\'s day to day lives. Perhaps it\\'s too sentimental to seem conventional, but Shawshank\\'s core friendship hits all the right notes, and the film is much better for it.It\\'s pacing is deliberate as well. As we spend the film watching the same actors, it is easy to forget that the movie\\'s timeline spans well over 20 years. Such a huge measure of time would pass slowly in reality, and would only be amplified in prison. And it\\'s not as if the film lacks interest in these moments. It still knows where it\\'s going, it merely intends on taking its sweet time getting there. It pays off as well, as the tedium of prison life makes the climax that much more exhilarating. For anyone who sees it, it is a moment never to be forgotten.With themes of faith and hope, there is a definite religious subtext to be found here. Quiet, selfless and carefree, Andy is an obvious Christ figure. Warden Norton (Bob Gunton) is obviously modeled on Richard Nixon, who, in his day, was as close to a personified Satan as they come. But if you aren\\'t looking for subtexts, the movie speaks to anyone in search of hope. It is a compelling drama, and a very moving film, perfectly written, acted and shot. They just don\\'t come much better than this.OVERALL SCORE: 9.8/10 = A+ The Shawshank Redemption served as a message of hope to Hollywood as well. More than any film in memory, it proved there is life after box office. Besting Forrest and Fiction, it ran solely on strong word of mouth and became the hottest rented film of 1995. It currently sits at #2 in the IMDb\\'s Top 250 Films, occasionally swapping spots with The Godfather as the top ranked film of all time -- redemption indeed. If you haven\\'t seen it yet, what the hell are you waiting for? As Andy says, \"It comes down a simple choice, really. Either get busy living, or get busy dying.\"'"
      ]
     },
     "execution_count": 42,
     "metadata": {},
     "output_type": "execute_result"
    }
   ],
   "source": [
    "review_dat['review_text'][0]"
   ]
  },
  {
   "cell_type": "markdown",
   "metadata": {
    "id": "8hHkMih2_mq1"
   },
   "source": [
    "After intial check, we choose to use \"plot summary\" in movie data and \"review_text\" in reviews data for our text processing and analysis.\n",
    "\n",
    "\"Plot Synopsis\" is too long, \"review_summary\" cannot catch the key information to determine the spoiler."
   ]
  },
  {
   "cell_type": "markdown",
   "metadata": {
    "id": "2sWis7Tltf03"
   },
   "source": [
    "## Remove Punctuations\n",
    "\n",
    "Don't do this part if we apply sentence embedding!\n",
    "\n"
   ]
  },
  {
   "cell_type": "code",
   "execution_count": 43,
   "metadata": {
    "colab": {
     "base_uri": "https://localhost:8080/"
    },
    "id": "PP6D5_srtXjF",
    "outputId": "0e033ad6-2de5-49e7-d2cb-bd463ba69f6a"
   },
   "outputs": [
    {
     "name": "stderr",
     "output_type": "stream",
     "text": [
      "C:\\Users\\26011\\AppData\\Local\\Temp\\ipykernel_5440\\2784785822.py:4: FutureWarning: The default value of regex will change from True to False in a future version.\n",
      "  movie_dat['plot_summary'] = movie_dat['plot_summary'].str.replace(r\"[^\\w\\s']+\", '')\n",
      "C:\\Users\\26011\\AppData\\Local\\Temp\\ipykernel_5440\\2784785822.py:5: FutureWarning: The default value of regex will change from True to False in a future version.\n",
      "  review_dat['review_text'] = review_dat['review_text'].str.replace(r\"[^\\w\\s']+\", '')\n"
     ]
    }
   ],
   "source": [
    "# remove all punctuations except comma and period\n",
    "def remove_punctuation(text):\n",
    "    return text.str.replace(r\"[^\\w\\s']+\", '')\n",
    "movie_dat['plot_summary'] = movie_dat['plot_summary'].str.replace(r\"[^\\w\\s']+\", '')\n",
    "review_dat['review_text'] = review_dat['review_text'].str.replace(r\"[^\\w\\s']+\", '')"
   ]
  },
  {
   "cell_type": "code",
   "execution_count": 44,
   "metadata": {
    "colab": {
     "base_uri": "https://localhost:8080/",
     "height": 144
    },
    "id": "QXIrN5EmEaCS",
    "outputId": "f702125f-bbc3-4fc1-a782-1b1958a10538"
   },
   "outputs": [
    {
     "data": {
      "text/plain": [
       "\"Former CIA analyst Jack Ryan is in England with his family on vacation when he suddenly witnesses an explosion outside Buckingham Palace It is revealed that some people are trying to abduct a member of the Royal Family but Jack intervenes killing one of them and capturing the other and stops the plan in its tracks Afterwards he learns that they're Irish revolutionaries and the two men are brothers During his court hearing the one that's still alive vows to get back at Jack but is sentenced and that seems to be the end of it However whilst the man is being transported he is broken out Jack learns of this but doesn't think there's anything to worry about But when he is at the Naval Academy someone tries to kill him He learns that they are also going after his family and so he rushes to find them safe but having also been the victims of a failed assassination That's when Jack decides to rejoin the CIA and they try to find the man before he makes another attempt                Written by\\nrcs0411yahoocom\""
      ]
     },
     "execution_count": 44,
     "metadata": {},
     "output_type": "execute_result"
    }
   ],
   "source": [
    "movie_dat['plot_summary'][0]"
   ]
  },
  {
   "cell_type": "code",
   "execution_count": 45,
   "metadata": {
    "id": "MYpei77rDMSz"
   },
   "outputs": [],
   "source": [
    "# review_dat['review_text'][0]"
   ]
  },
  {
   "cell_type": "code",
   "execution_count": 46,
   "metadata": {
    "id": "Ipe4eOT8tn73"
   },
   "outputs": [],
   "source": [
    "# save the code temperorily\n",
    "# output_path_v1 = folder_path + 'combined_data_preprocessed.csv'\n",
    "# combined_dat.to_csv(output_path_v1)"
   ]
  },
  {
   "cell_type": "markdown",
   "metadata": {
    "id": "d69nBnXi6-2j"
   },
   "source": [
    "## To Lowercase"
   ]
  },
  {
   "cell_type": "code",
   "execution_count": 47,
   "metadata": {
    "colab": {
     "base_uri": "https://localhost:8080/"
    },
    "id": "VMheExQ07BZE",
    "outputId": "b3c9e1fc-53c8-42a1-88d3-eece3ab6f992"
   },
   "outputs": [
    {
     "data": {
      "text/plain": [
       "0         in its oscar year shawshank redemption written...\n",
       "1         the shawshank redemption is without a doubt on...\n",
       "2         i believe that this film is the best story eve...\n",
       "3         yes there are spoilers herethis film has had s...\n",
       "4         at the heart of this extraordinary movie is a ...\n",
       "                                ...                        \n",
       "573908    go is wise fast and pure entertainment assembl...\n",
       "573909    well what shall i say this ones fun at any rat...\n",
       "573910    go is the best movie i have ever seen and i've...\n",
       "573911    call this 1999 teenage version of pulp fiction...\n",
       "573912    why was this movie made no doubt to sucker in ...\n",
       "Name: review_text, Length: 573913, dtype: object"
      ]
     },
     "execution_count": 47,
     "metadata": {},
     "output_type": "execute_result"
    }
   ],
   "source": [
    "movie_dat['plot_summary'].str.lower()\n",
    "review_dat['review_text'].str.lower()"
   ]
  },
  {
   "cell_type": "markdown",
   "metadata": {
    "id": "LCcc0FkN9M50"
   },
   "source": [
    "## Remove Stopwords and Stemming"
   ]
  },
  {
   "cell_type": "code",
   "execution_count": 48,
   "metadata": {
    "colab": {
     "base_uri": "https://localhost:8080/"
    },
    "id": "dYqC-Adk9QY6",
    "outputId": "cd6ba699-029c-4f2e-e8e6-888d99e78537"
   },
   "outputs": [
    {
     "name": "stderr",
     "output_type": "stream",
     "text": [
      "[nltk_data] Downloading package stopwords to\n",
      "[nltk_data]     C:\\Users\\26011\\AppData\\Roaming\\nltk_data...\n",
      "[nltk_data]   Package stopwords is already up-to-date!\n"
     ]
    }
   ],
   "source": [
    "# pre-define a stopword list, retrieved from https://www.ranks.nl/stopwords\n",
    "# stemming using nltk\n",
    "import nltk\n",
    "from nltk.stem import PorterStemmer\n",
    "from nltk.corpus import stopwords\n",
    "nltk.download('stopwords')\n",
    "stopwords_lst = set(stopwords.words('english'))\n",
    "stemmer = PorterStemmer()\n",
    "# stopword_path = folder_path + 'stopwords.txt'\n",
    "# stopwords = pd.read_csv(stopword_path,header = None)\n",
    "# stopwords.rename(columns={0:'Stopwords'}, inplace = True)\n",
    "# stopwords_lst = list(stopwords['Stopwords'])\n",
    "def stem_and_remove_stopwords(text, stopwords_lst):\n",
    "    word_lst = text.split(' ')\n",
    "    return ' '.join([x for x in word_lst if x not in stopwords_lst])\n",
    "# test = movie_dat.head(5)\n",
    "# test['plot_summary'] = test['plot_summary'].apply(lambda x: stem_and_remove_stopwords(x, stopwords_lst))\n",
    "# test['plot_summary'][0]"
   ]
  },
  {
   "cell_type": "code",
   "execution_count": 49,
   "metadata": {
    "id": "nMhuLQrY4W__"
   },
   "outputs": [],
   "source": [
    "# combined_dat[text_cols] = combined_dat[text_cols].apply(lambda x: remove_stopwords(x, stopwords_lst))\n",
    "movie_dat['plot_summary'] = movie_dat['plot_summary'].apply(lambda x: stem_and_remove_stopwords(x, stopwords_lst))\n",
    "review_dat['review_text'] = review_dat['review_text'].apply(lambda x: stem_and_remove_stopwords(x, stopwords_lst))"
   ]
  },
  {
   "cell_type": "code",
   "execution_count": 50,
   "metadata": {
    "colab": {
     "base_uri": "https://localhost:8080/",
     "height": 144
    },
    "id": "L6hjTy8cCjtY",
    "outputId": "db5b5b75-c91b-423c-e1d0-0b7efcd24f37"
   },
   "outputs": [
    {
     "data": {
      "text/plain": [
       "\"In Oscar year Shawshank Redemption written directed Frank Darabont novella Rita Hayworth Shawshank Redemption Stephen King nominated seven Academy Awards walked away zero Best Picture went Forrest Gump Shawshank Pulp Fiction happy nominated Of course hindsight 2020 history looks back Gump good film Pulp Redemption remembered alltime best Pulp however success word go making huge splash Cannes making writerdirector American master two films For Andy Dufresne Co success come easy Fortunately failure life sentenceAfter opening 33 screens take 727327 25M film fell fast theatres finished mere 283M The reasons failure many Firstly title clunker While iconic fans today 1994 people knew cared 'Shawshank' On DVD Tim Robbins laughs recounting fans congratulating 'Rickshaw' movie Marketingwise film's nightmare 'prison drama' tough sell women story love two best friends spell winner men Worst movie slow molasses As Desson Thomson writes Washington Post wanders subplots every opportunity ignores abundance narrative exit points settling finale But weaknesses make film strongFirstly setting The opening aerial shots prison total eyeopener This amazing piece architecture strong Gothic design Immediately prison becomes character It casts shadow film tall stone walls stretching every shot It towers men contains blotting memories outside world Only Andy Robbins holds onto hope It's music sandy beaches Zihuatanejo In here's need says You need forget Forget places world made stone That there's  there's  there's something inside that's can't touch Red Morgan Freeman think much Andy first picking tall glass o' milk silver spoon ass first new fish crack Andy says word losing bet Red resents But time two get know quickly become best friends This one film's major strengths Many movies love many flicks sidekick hero Shawshank one I think looks honestly love two best friends It seems odd Hollywood would skip relationship time feeling weighs much everyone's day day lives Perhaps sentimental seem conventional Shawshank's core friendship hits right notes film much better itIt's pacing deliberate well As spend film watching actors easy forget movie's timeline spans well 20 years Such huge measure time would pass slowly reality would amplified prison And film lacks interest moments It still knows going merely intends taking sweet time getting It pays well tedium prison life makes climax much exhilarating For anyone sees moment never forgottenWith themes faith hope definite religious subtext found Quiet selfless carefree Andy obvious Christ figure Warden Norton Bob Gunton obviously modeled Richard Nixon day close personified Satan come But looking subtexts movie speaks anyone search hope It compelling drama moving film perfectly written acted shot They come much better thisOVERALL SCORE 9810  A The Shawshank Redemption served message hope Hollywood well More film memory proved life box office Besting Forrest Fiction ran solely strong word mouth became hottest rented film 1995 It currently sits 2 IMDb's Top 250 Films occasionally swapping spots The Godfather top ranked film time  redemption indeed If seen yet hell waiting As Andy says It comes simple choice really Either get busy living get busy dying\""
      ]
     },
     "execution_count": 50,
     "metadata": {},
     "output_type": "execute_result"
    }
   ],
   "source": [
    "review_dat['review_text'][0]"
   ]
  },
  {
   "cell_type": "code",
   "execution_count": 51,
   "metadata": {
    "id": "nAE_IWgo8OGp"
   },
   "outputs": [],
   "source": [
    "# import nltk\n",
    "# from nltk.corpus import stopwords\n",
    "# nltk.data.path.append(\"/path/to/nltk_data\")\n",
    "# nltk.download('stopwords')\n",
    "# stop_words = set(stopwords.words('English'))\n",
    "# def remove_stopwords(text,stop_words):\n",
    "#   token_lst = text.split()\n",
    "#   filtered_tokens = [word for word in token_lst if word.lower() not in stop_words]\n",
    "#   filtered_text = ' '.join(filtered_tokens)\n",
    "#   return filtered_text\n",
    "# ## apply to combined dataframe\n",
    "# combined_dat[text_cols] = combined_dat[text_cols].apply(lambda x: remove_stopwords(x,stop_words))"
   ]
  },
  {
   "cell_type": "markdown",
   "metadata": {
    "id": "YvjlNfEY4Kja"
   },
   "source": [
    "# Basic Embedding\n",
    "\n",
    "Two ways to embed(vectorize) the text:\n",
    "\n",
    "1. word tokenization/embedding (word2vec, glove)\n",
    "2. sentence tokenization/embedding (BERT)\n"
   ]
  },
  {
   "cell_type": "markdown",
   "metadata": {
    "id": "wDhcITOU5IyD"
   },
   "source": [
    "## 1. Word Tokenization and Embedding\n",
    "Since we are dealing with large dataset, we don't use TF-IDF but should try the **followings**, (personally don't think it's a good idea to analyze on each word, but should be analyzing on the whole sentence, which is sentence embedding)\n",
    "\n",
    "\n",
    "1. CountVectorizer and TF-IDF:\n",
    "\n",
    "the simplest vectorizing method, can be used as the baseline combined with logistic regression and SVM model\n",
    "\n",
    "2. Word2Vec:\n",
    "\n",
    "pre-trained model provided by google, each word is represented by a vector of length 300, high computational cost (but sufficient data for deep learning)\n",
    "(probably can use PCA for dim reduction)\n",
    "\n",
    "3. Transformer (BERT) -> code is at the end:\n",
    "\n",
    "BERT is another pre-trained model by transferred learning with higher accuracy and interpretation abilities. Similar to Word2Vec, it has high computational cost, but sufficient data for deep learning.\n"
   ]
  },
  {
   "cell_type": "code",
   "execution_count": 52,
   "metadata": {
    "colab": {
     "base_uri": "https://localhost:8080/"
    },
    "id": "DbsoCpTpKoAi",
    "outputId": "526f5011-4257-403d-f3ea-ff2b9ead4e17"
   },
   "outputs": [
    {
     "name": "stderr",
     "output_type": "stream",
     "text": [
      "[nltk_data] Downloading package punkt to\n",
      "[nltk_data]     C:\\Users\\26011\\AppData\\Roaming\\nltk_data...\n",
      "[nltk_data]   Package punkt is already up-to-date!\n"
     ]
    }
   ],
   "source": [
    "# word tokenization: when removing punctuation need to remove comma, period...\n",
    "from nltk.tokenize import word_tokenize\n",
    "nltk.download('punkt')\n",
    "movie_dat['plot_summary_word'] = movie_dat['plot_summary'].apply(lambda x: word_tokenize(x))\n",
    "review_dat['review_text_word'] = review_dat['review_text'].apply(lambda x: word_tokenize(x))"
   ]
  },
  {
   "cell_type": "code",
   "execution_count": 53,
   "metadata": {
    "colab": {
     "base_uri": "https://localhost:8080/"
    },
    "id": "ZSKXmdime1__",
    "outputId": "bf156e4d-53d6-4bc0-9d52-6ed3a050e424"
   },
   "outputs": [
    {
     "data": {
      "text/plain": [
       "0    [In, Oscar, year, Shawshank, Redemption, writt...\n",
       "1    [The, Shawshank, Redemption, without, doubt, o...\n",
       "2    [I, believe, film, best, story, ever, told, fi...\n",
       "3    [Yes, SPOILERS, hereThis, film, emotional, imp...\n",
       "4    [At, heart, extraordinary, movie, brilliant, i...\n",
       "Name: review_text_word, dtype: object"
      ]
     },
     "execution_count": 53,
     "metadata": {},
     "output_type": "execute_result"
    }
   ],
   "source": [
    "review_dat['review_text_word'].head()"
   ]
  },
  {
   "cell_type": "code",
   "execution_count": 54,
   "metadata": {
    "id": "Lw578axhLbw2"
   },
   "outputs": [
    {
     "name": "stderr",
     "output_type": "stream",
     "text": [
      "[nltk_data] Downloading package wordnet to\n",
      "[nltk_data]     C:\\Users\\26011\\AppData\\Roaming\\nltk_data...\n",
      "[nltk_data]   Package wordnet is already up-to-date!\n"
     ]
    }
   ],
   "source": [
    "# word lemmatization\n",
    "from nltk.stem import WordNetLemmatizer\n",
    "nltk.download('wordnet')\n",
    "lemmatizer = WordNetLemmatizer()\n",
    "movie_dat['plot_summary_word'] = movie_dat['plot_summary_word'].apply(lambda x: [lemmatizer.lemmatize(word) for word in x])\n",
    "review_dat['review_text_word'] = review_dat['review_text_word'].apply(lambda x: [lemmatizer.lemmatize(word) for word in x])"
   ]
  },
  {
   "cell_type": "code",
   "execution_count": null,
   "metadata": {},
   "outputs": [],
   "source": [
    "#remove 's\n",
    "movie_dat['plot_summary_word'] = movie_dat['plot_summary_word'].apply(lambda x:[i for i in x if i!=\"'s\"])\n",
    "review_dat['review_text_word'] = review_dat['review_text_word'].apply(lambda x:[i for i in x if i!=\"'s\"])"
   ]
  },
  {
   "cell_type": "code",
   "execution_count": 55,
   "metadata": {},
   "outputs": [],
   "source": [
    "# remove comma, period\n",
    "# movie_dat['plot_summary_word'] = movie_dat['plot_summary_word'].apply(lambda x:[i for i in x if i!=','])\n",
    "# review_dat['review_text_word'] = review_dat['review_text_word'].apply(lambda x:[i for i in x if i!=','])"
   ]
  },
  {
   "cell_type": "code",
   "execution_count": 56,
   "metadata": {
    "id": "1NWMhVHaLQWN"
   },
   "outputs": [],
   "source": [
    "# word2vec for word embedding\n",
    "from gensim.models import KeyedVectors\n",
    "model_path = folder_path + 'GoogleNews-vectors-negative300.bin.gz'\n",
    "word2vec_model = KeyedVectors.load_word2vec_format(model_path, binary=True)\n",
    "\n",
    "# def sentence_to_embeddings(sentence, model):\n",
    "#       words = sentence.split()\n",
    "#       embeddings = [model.mv[word] for word in words if word in model.mv]\n",
    "#       if embeddings:\n",
    "#           return sum(embeddings)/len(embeddings)\n",
    "#       else:\n",
    "#           return None\n",
    "def word_to_embeddings(word_lst, model):\n",
    "    embeddings = []\n",
    "    for word in word_lst:\n",
    "        try:\n",
    "            embeddings.append(model[word])\n",
    "        except KeyError:\n",
    "            embeddings.append(np.zeros(model.vector_size))\n",
    "    return embeddings"
   ]
  },
  {
   "cell_type": "code",
   "execution_count": 57,
   "metadata": {},
   "outputs": [
    {
     "data": {
      "text/plain": [
       "['Former',\n",
       " 'CIA',\n",
       " 'analyst',\n",
       " 'Jack',\n",
       " 'Ryan',\n",
       " 'England',\n",
       " 'family',\n",
       " 'vacation',\n",
       " 'suddenly',\n",
       " 'witness',\n",
       " 'explosion',\n",
       " 'outside',\n",
       " 'Buckingham',\n",
       " 'Palace',\n",
       " 'It',\n",
       " 'revealed',\n",
       " 'people',\n",
       " 'trying',\n",
       " 'abduct',\n",
       " 'member',\n",
       " 'Royal',\n",
       " 'Family',\n",
       " 'Jack',\n",
       " 'intervenes',\n",
       " 'killing',\n",
       " 'one',\n",
       " 'capturing',\n",
       " 'stop',\n",
       " 'plan',\n",
       " 'track',\n",
       " 'Afterwards',\n",
       " 'learns',\n",
       " 'they',\n",
       " \"'re\",\n",
       " 'Irish',\n",
       " 'revolutionary',\n",
       " 'two',\n",
       " 'men',\n",
       " 'brother',\n",
       " 'During',\n",
       " 'court',\n",
       " 'hearing',\n",
       " 'one',\n",
       " 'that',\n",
       " \"'s\",\n",
       " 'still',\n",
       " 'alive',\n",
       " 'vow',\n",
       " 'get',\n",
       " 'back',\n",
       " 'Jack',\n",
       " 'sentenced',\n",
       " 'seems',\n",
       " 'end',\n",
       " 'However',\n",
       " 'whilst',\n",
       " 'man',\n",
       " 'transported',\n",
       " 'broken',\n",
       " 'Jack',\n",
       " 'learns',\n",
       " 'think',\n",
       " 'there',\n",
       " \"'s\",\n",
       " 'anything',\n",
       " 'worry',\n",
       " 'But',\n",
       " 'Naval',\n",
       " 'Academy',\n",
       " 'someone',\n",
       " 'try',\n",
       " 'kill',\n",
       " 'He',\n",
       " 'learns',\n",
       " 'also',\n",
       " 'going',\n",
       " 'family',\n",
       " 'rush',\n",
       " 'find',\n",
       " 'safe',\n",
       " 'also',\n",
       " 'victim',\n",
       " 'failed',\n",
       " 'assassination',\n",
       " 'That',\n",
       " \"'s\",\n",
       " 'Jack',\n",
       " 'decides',\n",
       " 'rejoin',\n",
       " 'CIA',\n",
       " 'try',\n",
       " 'find',\n",
       " 'man',\n",
       " 'make',\n",
       " 'another',\n",
       " 'attempt',\n",
       " 'Written',\n",
       " 'by',\n",
       " 'rcs0411yahoocom']"
      ]
     },
     "execution_count": 57,
     "metadata": {},
     "output_type": "execute_result"
    }
   ],
   "source": [
    "movie_dat['plot_summary_word'][0]"
   ]
  },
  {
   "cell_type": "code",
   "execution_count": null,
   "metadata": {},
   "outputs": [],
   "source": [
    "test = movie_dat['plot_summary_word'][0]\n",
    "print(word_to_embeddings(test,word2vec_model))"
   ]
  },
  {
   "cell_type": "code",
   "execution_count": null,
   "metadata": {
    "id": "A432JA73Y3bE"
   },
   "outputs": [],
   "source": [
    "# it will take some times to vectorize..\n",
    "movie_dat['word2vec_embedded'] = movie_dat['plot_summary_word'].apply(lambda x: word_to_embeddings(x,word2vec_model))\n",
    "review_dat['word2vec_embedded'] = review_dat['review_text_word'].apply(lambda x: word_to_embeddings(x,word2vec_model))"
   ]
  },
  {
   "cell_type": "code",
   "execution_count": null,
   "metadata": {
    "id": "6c1hM_FO8SoW"
   },
   "outputs": [],
   "source": [
    "## save the embedded vectors using word2vec\n",
    "movie_remain_cols = ['movie_id','word2vec_embedded']\n",
    "review_remain_cols = ['movie_id','user_id','word2vec_embedded']\n",
    "movie_text_processed = movie_dat[movie_remain_cols]\n",
    "review_text_processed = review_dat[review_remain_cols]\n",
    "movie_text_processed.to_csv('movie_text_processed_word2vec.csv')\n",
    "review_text_processed.to_csv('review_text_processed_word2vec.csv')"
   ]
  },
  {
   "cell_type": "markdown",
   "metadata": {
    "id": "XJ1kUJqm5Y-9"
   },
   "source": [
    "## 2.1 Sentence Tokenization (experiment on sentence wide)"
   ]
  },
  {
   "cell_type": "code",
   "execution_count": null,
   "metadata": {
    "id": "uCJHnK_L5e6u"
   },
   "outputs": [],
   "source": [
    "# from nltk import sent_tokenize\n",
    "from nltk.tokenize import sent_tokenize\n",
    "nltk.download('punkt')\n",
    "\n",
    "movie_dat['plot_summary'] = movie_dat['plot_summary'].apply(lambda x: sent_tokenize(x)[:-1]) #[:-1] used for eliminating the email\n",
    "review_dat['review_text'] = review_dat['review_text'].apply(lambda x: sent_tokenize(x)[:-1])"
   ]
  },
  {
   "cell_type": "markdown",
   "metadata": {
    "id": "TEzJAEMW5fph"
   },
   "source": [
    "## 2.2 Sentence Embedding"
   ]
  },
  {
   "cell_type": "markdown",
   "metadata": {
    "id": "zDvUaXyTJhR-"
   },
   "source": [
    "### a) Word2Vec"
   ]
  },
  {
   "cell_type": "code",
   "execution_count": null,
   "metadata": {
    "id": "4xaqucbi52YO"
   },
   "outputs": [],
   "source": [
    "from gensim.models import Word2Vec\n",
    "from gensim.models import KeyedVectors\n",
    "model_path = folder_path + 'GoogleNews-vectors-negative300.bin.gz'\n",
    "word2vec_model = KeyedVectors.load_word2vec_format(model_path, binary=True)\n",
    "def sentence_to_embeddings(sentence, model):\n",
    "    words = sentence.split()\n",
    "    embeddings = [model.mv[word] for word in words if word in model.mv]\n",
    "    if embeddings:\n",
    "        return sum(embedding   s)/len(embeddings)\n",
    "    else:\n",
    "        return None\n",
    "# def word_to_embeddings(word_lst, model):\n",
    "#     return [model.mv[word] for word in word_lst if word in model.mv else np.zeros(model.vector_size)]\n",
    "\n",
    "movie_dat['word2vec_embedded'] = movie_dat['plot_summary'].apply(lambda x: [sentence_to_embeddings(sentence, word2vec_model) for sentence in x])\n",
    "review_dat['word2vec_embedded'] = review_dat['review_text'].apply(lambda x: [sentence_to_embeddings(sentence, word2vec_model) for sentence in x])"
   ]
  },
  {
   "cell_type": "markdown",
   "metadata": {
    "id": "Et7aza3aJsuJ"
   },
   "source": [
    "### b) BERT (too complex for sentence embedding)\n",
    "-- we need to scale the length of each sentence manually, nearly impossible.. (so can be discarded)"
   ]
  },
  {
   "cell_type": "code",
   "execution_count": null,
   "metadata": {
    "id": "JsQcpKX9Fgb5"
   },
   "outputs": [],
   "source": [
    "!pip install simpletransformers"
   ]
  },
  {
   "cell_type": "code",
   "execution_count": null,
   "metadata": {
    "colab": {
     "base_uri": "https://localhost:8080/",
     "height": 145,
     "referenced_widgets": [
      "149d174a081a4f12bce2161ec4a215c0",
      "b7d77628077044adbc49322525dc5209",
      "f0bc9df6fa114aec8029601957488255",
      "4003fbec192b46de8536d4458b3cf75b",
      "b0c223473c964d89bed54ad837dc3c3a",
      "59eb1c7ab2fd465082bde3076a3d2b9e",
      "2580055a92b5492ead49670e4362c221",
      "d4fdecf5d22c4546964e195ff7052e8e",
      "c6102ea83d2d4c31bc96e4319228024f",
      "eb1e81d0af1a48e9ab844c1bff62b408",
      "3c95c88a53d548b3a2081c39750deb94",
      "7e007bea2faa4d7f8515980d02e7d232",
      "eedb9ed7a4ea44e2868bb50078685dca",
      "c574baede3a54a6e9667d11f6fa8347b",
      "ffe63b23e3894499b29a8b9ec6b6fd4a",
      "ee4e51a70e2f4d23978fbd1c7bc0747f",
      "1618aaee44e54c36be9ba83f3258121f",
      "1891e644ac4f4855ba6eba60d0415a32",
      "96e29b47868248e39356badf3440b92e",
      "7ab44620f628495689bdf7e7bb890e4f",
      "13c2df6551384a8a8f0137e784d7345f",
      "de93559b248b43b09dc0bc7013b30c42",
      "d31707f80f1142179337600c7b444764",
      "d1ba3ee639a34f849b6b1bd2aec7d962",
      "3514e02782834ed982c510fb0fbd91fd",
      "1225424f7314489cad0c430609a14c8e",
      "81c49d4d9fe244b4a0f990d789c03237",
      "556a887e09f34ab698d800e4fbcbd824",
      "bfd7db1ad407411c9dfce5be7189c927",
      "f07df78b29ba400c92ca8fdd479117bb",
      "761053ad59f945cf9be5f332bf8450c8",
      "b2fb8d3050414d6da3ccdd348f9705af",
      "55465bbcb47a4e86bd33037fdd0ccf81",
      "a1d1a48c7dc04d02b33f380db0dccfb1",
      "b41cdb7ed205418faff0c70e72867f4f",
      "3da2343c4ba6461db0e7ef1b3bd55073",
      "a51dba75e6714190b44d04e358f870d2",
      "7cb9a36306f44f5ea3f593daeb1fc74d",
      "b89f7ac49aa34e6ea5e10169da102d12",
      "35e7184ebb654a058664c83e434dbe9d",
      "e222c956818344879bf05a7bf4564c2a",
      "4bfdac49517a4beb8f3cf714f9517e9a",
      "adb60899dfb2414db088d535ddba95f4",
      "0a3f97135bd64d9ab75e32a7f8482919"
     ]
    },
    "id": "ud2kbFnuJts1",
    "outputId": "da5d4059-1da8-4bf3-d5e3-8352bebd9362"
   },
   "outputs": [],
   "source": [
    "# !pip install simpletransformers\n",
    "from simpletransformers.language_representation import RepresentationModel\n",
    "bert_model = RepresentationModel(\n",
    "    model_type = \"bert\",\n",
    "    model_name = \"bert-base-uncased\",\n",
    "    use_cuda = False\n",
    ")\n",
    "\n",
    "def bert_embedding(sentences,model):\n",
    "    return model.encode_sentences(sentences, combine_strategy=None)"
   ]
  },
  {
   "cell_type": "code",
   "execution_count": null,
   "metadata": {
    "id": "1AcvxbWzIYzG"
   },
   "outputs": [],
   "source": [
    "# need to set the maximum length for each sentence!! (for transformer to do sentence embedding)\n"
   ]
  },
  {
   "cell_type": "code",
   "execution_count": null,
   "metadata": {
    "id": "ghhutJi5F4Ty"
   },
   "outputs": [],
   "source": [
    "from nltk.tokenize import sent_tokenize\n",
    "nltk.download('punkt')\n",
    "test = sent_tokenize(review_dat['review_text'][0])[:-1]\n",
    "bert_embedding(test,bert_model)\n"
   ]
  },
  {
   "cell_type": "code",
   "execution_count": null,
   "metadata": {
    "id": "8Fizw4mx_4IM"
   },
   "outputs": [],
   "source": [
    "movie_dat['bert_embedded_summary'] = movie_dat['plot_summary'].apply(lambda x: bert_embedding(x,bert_model))\n",
    "review_dat['bert_embedded_review'] = review_dat['review_text'].apply(lambda x: bert_embedding(x,bert_model))"
   ]
  },
  {
   "cell_type": "markdown",
   "metadata": {
    "id": "VbAihPoaOMR3"
   },
   "source": [
    "# BERT (Tokenization and Embedding) -- Can be applied"
   ]
  },
  {
   "cell_type": "code",
   "execution_count": null,
   "metadata": {},
   "outputs": [],
   "source": [
    "# !pip install protobuf==3.20.0 --user"
   ]
  },
  {
   "cell_type": "code",
   "execution_count": null,
   "metadata": {
    "colab": {
     "base_uri": "https://localhost:8080/"
    },
    "id": "MUUFHpvtLZLZ",
    "outputId": "a6721a3b-49da-4132-ea67-f26075d4bc14"
   },
   "outputs": [],
   "source": [
    "# transformer for word embedding\n",
    "from transformers import BertTokenizer, BertModel\n",
    "import torch\n",
    "model_name = 'bert-base-uncased'\n",
    "tokenizer = BertTokenizer.from_pretrained(model_name)\n",
    "model = BertModel.from_pretrained(model_name)\n",
    "# for the whole paragraph, do the sentense tokenization first.\n",
    "# from nltk import sent_tokenize\n",
    "from nltk.tokenize import sent_tokenize\n",
    "nltk.download('punkt')\n",
    "movie_dat['plot_summary_sentences'] = movie_dat['plot_summary'].apply(lambda x: sent_tokenize(x)[:-1]) #[:-1] used for eliminating the email\n",
    "review_dat['review_text_sentences'] = review_dat['review_text'].apply(lambda x: sent_tokenize(x)[:-1])\n",
    "# then let transformer tokenize the whole sentense, then embed on each words\n",
    "def transformer_process(sentences, model):\n",
    "    tokenized_sentences = [tokenizer(sentence,return_tensors='pt') for sentence in sentences]\n",
    "    embedded_sentences = [model(**tokenized_sentence).last_hidden_state.tolist()[0] for tokenized_sentence in tokenized_sentences]\n",
    "    return embedded_sentences"
   ]
  },
  {
   "cell_type": "code",
   "execution_count": null,
   "metadata": {
    "id": "-6KnGoRvRkCu"
   },
   "outputs": [],
   "source": [
    "def transformer_process(sentences, model):\n",
    "    tokenized_sentences = [tokenizer(sentence,return_tensors='pt') for sentence in sentences]\n",
    "    embedded_sentences = [model(**tokenized_sentence).last_hidden_state.tolist()[0] for tokenized_sentence in tokenized_sentences]\n",
    "    return embedded_sentences"
   ]
  },
  {
   "cell_type": "code",
   "execution_count": null,
   "metadata": {
    "colab": {
     "base_uri": "https://localhost:8080/"
    },
    "id": "4dXhhK79Rnlc",
    "outputId": "8c2ea0d5-d22d-4d40-8cc0-eaa7b6e8eff6"
   },
   "outputs": [],
   "source": [
    "test = movie_dat['plot_summary_sentences'][0]\n",
    "len(transformer_process(test,model)[0])"
   ]
  },
  {
   "cell_type": "code",
   "execution_count": null,
   "metadata": {
    "id": "4bxpoAycP6Iv"
   },
   "outputs": [],
   "source": [
    "movie_dat['bert_embedded'] = movie_dat['plot_summary_sentences'].apply(lambda x: transformer_process(x, model))\n",
    "review_dat['bert_embedded'] = review_dat['review_text_sentences'].apply(lambda x: transformer_process(x, model))"
   ]
  },
  {
   "cell_type": "code",
   "execution_count": null,
   "metadata": {
    "id": "rd6aqvTe9sSj"
   },
   "outputs": [],
   "source": [
    "## save the embedded vectors using BERT\n",
    "movie_remain_cols = ['movie_id','bert_embedded']\n",
    "review_remain_cols = ['movie_id','user_id','bert_embedded']\n",
    "movie_text_processed = movie_dat[movie_remain_cols]\n",
    "review_text_processed = review_dat[review_remain_cols]\n",
    "movie_text_processed.to_csv('movie_text_processed_bert.csv')\n",
    "review_text_processed.to_csv('review_text_processed_bert.csv')"
   ]
  }
 ],
 "metadata": {
  "colab": {
   "provenance": [],
   "toc_visible": true
  },
  "kernelspec": {
   "display_name": "Python 3 (ipykernel)",
   "language": "python",
   "name": "python3"
  },
  "language_info": {
   "codemirror_mode": {
    "name": "ipython",
    "version": 3
   },
   "file_extension": ".py",
   "mimetype": "text/x-python",
   "name": "python",
   "nbconvert_exporter": "python",
   "pygments_lexer": "ipython3",
   "version": "3.8.18"
  },
  "widgets": {
   "application/vnd.jupyter.widget-state+json": {
    "0a3f97135bd64d9ab75e32a7f8482919": {
     "model_module": "@jupyter-widgets/controls",
     "model_module_version": "1.5.0",
     "model_name": "DescriptionStyleModel",
     "state": {
      "_model_module": "@jupyter-widgets/controls",
      "_model_module_version": "1.5.0",
      "_model_name": "DescriptionStyleModel",
      "_view_count": null,
      "_view_module": "@jupyter-widgets/base",
      "_view_module_version": "1.2.0",
      "_view_name": "StyleView",
      "description_width": ""
     }
    },
    "1225424f7314489cad0c430609a14c8e": {
     "model_module": "@jupyter-widgets/controls",
     "model_module_version": "1.5.0",
     "model_name": "HTMLModel",
     "state": {
      "_dom_classes": [],
      "_model_module": "@jupyter-widgets/controls",
      "_model_module_version": "1.5.0",
      "_model_name": "HTMLModel",
      "_view_count": null,
      "_view_module": "@jupyter-widgets/controls",
      "_view_module_version": "1.5.0",
      "_view_name": "HTMLView",
      "description": "",
      "description_tooltip": null,
      "layout": "IPY_MODEL_b2fb8d3050414d6da3ccdd348f9705af",
      "placeholder": "​",
      "style": "IPY_MODEL_55465bbcb47a4e86bd33037fdd0ccf81",
      "value": " 232k/232k [00:00&lt;00:00, 4.52MB/s]"
     }
    },
    "13c2df6551384a8a8f0137e784d7345f": {
     "model_module": "@jupyter-widgets/base",
     "model_module_version": "1.2.0",
     "model_name": "LayoutModel",
     "state": {
      "_model_module": "@jupyter-widgets/base",
      "_model_module_version": "1.2.0",
      "_model_name": "LayoutModel",
      "_view_count": null,
      "_view_module": "@jupyter-widgets/base",
      "_view_module_version": "1.2.0",
      "_view_name": "LayoutView",
      "align_content": null,
      "align_items": null,
      "align_self": null,
      "border": null,
      "bottom": null,
      "display": null,
      "flex": null,
      "flex_flow": null,
      "grid_area": null,
      "grid_auto_columns": null,
      "grid_auto_flow": null,
      "grid_auto_rows": null,
      "grid_column": null,
      "grid_gap": null,
      "grid_row": null,
      "grid_template_areas": null,
      "grid_template_columns": null,
      "grid_template_rows": null,
      "height": null,
      "justify_content": null,
      "justify_items": null,
      "left": null,
      "margin": null,
      "max_height": null,
      "max_width": null,
      "min_height": null,
      "min_width": null,
      "object_fit": null,
      "object_position": null,
      "order": null,
      "overflow": null,
      "overflow_x": null,
      "overflow_y": null,
      "padding": null,
      "right": null,
      "top": null,
      "visibility": null,
      "width": null
     }
    },
    "149d174a081a4f12bce2161ec4a215c0": {
     "model_module": "@jupyter-widgets/controls",
     "model_module_version": "1.5.0",
     "model_name": "HBoxModel",
     "state": {
      "_dom_classes": [],
      "_model_module": "@jupyter-widgets/controls",
      "_model_module_version": "1.5.0",
      "_model_name": "HBoxModel",
      "_view_count": null,
      "_view_module": "@jupyter-widgets/controls",
      "_view_module_version": "1.5.0",
      "_view_name": "HBoxView",
      "box_style": "",
      "children": [
       "IPY_MODEL_b7d77628077044adbc49322525dc5209",
       "IPY_MODEL_f0bc9df6fa114aec8029601957488255",
       "IPY_MODEL_4003fbec192b46de8536d4458b3cf75b"
      ],
      "layout": "IPY_MODEL_b0c223473c964d89bed54ad837dc3c3a"
     }
    },
    "1618aaee44e54c36be9ba83f3258121f": {
     "model_module": "@jupyter-widgets/base",
     "model_module_version": "1.2.0",
     "model_name": "LayoutModel",
     "state": {
      "_model_module": "@jupyter-widgets/base",
      "_model_module_version": "1.2.0",
      "_model_name": "LayoutModel",
      "_view_count": null,
      "_view_module": "@jupyter-widgets/base",
      "_view_module_version": "1.2.0",
      "_view_name": "LayoutView",
      "align_content": null,
      "align_items": null,
      "align_self": null,
      "border": null,
      "bottom": null,
      "display": null,
      "flex": null,
      "flex_flow": null,
      "grid_area": null,
      "grid_auto_columns": null,
      "grid_auto_flow": null,
      "grid_auto_rows": null,
      "grid_column": null,
      "grid_gap": null,
      "grid_row": null,
      "grid_template_areas": null,
      "grid_template_columns": null,
      "grid_template_rows": null,
      "height": null,
      "justify_content": null,
      "justify_items": null,
      "left": null,
      "margin": null,
      "max_height": null,
      "max_width": null,
      "min_height": null,
      "min_width": null,
      "object_fit": null,
      "object_position": null,
      "order": null,
      "overflow": null,
      "overflow_x": null,
      "overflow_y": null,
      "padding": null,
      "right": null,
      "top": null,
      "visibility": null,
      "width": null
     }
    },
    "1891e644ac4f4855ba6eba60d0415a32": {
     "model_module": "@jupyter-widgets/controls",
     "model_module_version": "1.5.0",
     "model_name": "DescriptionStyleModel",
     "state": {
      "_model_module": "@jupyter-widgets/controls",
      "_model_module_version": "1.5.0",
      "_model_name": "DescriptionStyleModel",
      "_view_count": null,
      "_view_module": "@jupyter-widgets/base",
      "_view_module_version": "1.2.0",
      "_view_name": "StyleView",
      "description_width": ""
     }
    },
    "2580055a92b5492ead49670e4362c221": {
     "model_module": "@jupyter-widgets/controls",
     "model_module_version": "1.5.0",
     "model_name": "DescriptionStyleModel",
     "state": {
      "_model_module": "@jupyter-widgets/controls",
      "_model_module_version": "1.5.0",
      "_model_name": "DescriptionStyleModel",
      "_view_count": null,
      "_view_module": "@jupyter-widgets/base",
      "_view_module_version": "1.2.0",
      "_view_name": "StyleView",
      "description_width": ""
     }
    },
    "3514e02782834ed982c510fb0fbd91fd": {
     "model_module": "@jupyter-widgets/controls",
     "model_module_version": "1.5.0",
     "model_name": "FloatProgressModel",
     "state": {
      "_dom_classes": [],
      "_model_module": "@jupyter-widgets/controls",
      "_model_module_version": "1.5.0",
      "_model_name": "FloatProgressModel",
      "_view_count": null,
      "_view_module": "@jupyter-widgets/controls",
      "_view_module_version": "1.5.0",
      "_view_name": "ProgressView",
      "bar_style": "success",
      "description": "",
      "description_tooltip": null,
      "layout": "IPY_MODEL_f07df78b29ba400c92ca8fdd479117bb",
      "max": 231508,
      "min": 0,
      "orientation": "horizontal",
      "style": "IPY_MODEL_761053ad59f945cf9be5f332bf8450c8",
      "value": 231508
     }
    },
    "35e7184ebb654a058664c83e434dbe9d": {
     "model_module": "@jupyter-widgets/controls",
     "model_module_version": "1.5.0",
     "model_name": "DescriptionStyleModel",
     "state": {
      "_model_module": "@jupyter-widgets/controls",
      "_model_module_version": "1.5.0",
      "_model_name": "DescriptionStyleModel",
      "_view_count": null,
      "_view_module": "@jupyter-widgets/base",
      "_view_module_version": "1.2.0",
      "_view_name": "StyleView",
      "description_width": ""
     }
    },
    "3c95c88a53d548b3a2081c39750deb94": {
     "model_module": "@jupyter-widgets/controls",
     "model_module_version": "1.5.0",
     "model_name": "DescriptionStyleModel",
     "state": {
      "_model_module": "@jupyter-widgets/controls",
      "_model_module_version": "1.5.0",
      "_model_name": "DescriptionStyleModel",
      "_view_count": null,
      "_view_module": "@jupyter-widgets/base",
      "_view_module_version": "1.2.0",
      "_view_name": "StyleView",
      "description_width": ""
     }
    },
    "3da2343c4ba6461db0e7ef1b3bd55073": {
     "model_module": "@jupyter-widgets/controls",
     "model_module_version": "1.5.0",
     "model_name": "FloatProgressModel",
     "state": {
      "_dom_classes": [],
      "_model_module": "@jupyter-widgets/controls",
      "_model_module_version": "1.5.0",
      "_model_name": "FloatProgressModel",
      "_view_count": null,
      "_view_module": "@jupyter-widgets/controls",
      "_view_module_version": "1.5.0",
      "_view_name": "ProgressView",
      "bar_style": "success",
      "description": "",
      "description_tooltip": null,
      "layout": "IPY_MODEL_e222c956818344879bf05a7bf4564c2a",
      "max": 466062,
      "min": 0,
      "orientation": "horizontal",
      "style": "IPY_MODEL_4bfdac49517a4beb8f3cf714f9517e9a",
      "value": 466062
     }
    },
    "4003fbec192b46de8536d4458b3cf75b": {
     "model_module": "@jupyter-widgets/controls",
     "model_module_version": "1.5.0",
     "model_name": "HTMLModel",
     "state": {
      "_dom_classes": [],
      "_model_module": "@jupyter-widgets/controls",
      "_model_module_version": "1.5.0",
      "_model_name": "HTMLModel",
      "_view_count": null,
      "_view_module": "@jupyter-widgets/controls",
      "_view_module_version": "1.5.0",
      "_view_name": "HTMLView",
      "description": "",
      "description_tooltip": null,
      "layout": "IPY_MODEL_eb1e81d0af1a48e9ab844c1bff62b408",
      "placeholder": "​",
      "style": "IPY_MODEL_3c95c88a53d548b3a2081c39750deb94",
      "value": " 440M/440M [00:04&lt;00:00, 121MB/s]"
     }
    },
    "4bfdac49517a4beb8f3cf714f9517e9a": {
     "model_module": "@jupyter-widgets/controls",
     "model_module_version": "1.5.0",
     "model_name": "ProgressStyleModel",
     "state": {
      "_model_module": "@jupyter-widgets/controls",
      "_model_module_version": "1.5.0",
      "_model_name": "ProgressStyleModel",
      "_view_count": null,
      "_view_module": "@jupyter-widgets/base",
      "_view_module_version": "1.2.0",
      "_view_name": "StyleView",
      "bar_color": null,
      "description_width": ""
     }
    },
    "55465bbcb47a4e86bd33037fdd0ccf81": {
     "model_module": "@jupyter-widgets/controls",
     "model_module_version": "1.5.0",
     "model_name": "DescriptionStyleModel",
     "state": {
      "_model_module": "@jupyter-widgets/controls",
      "_model_module_version": "1.5.0",
      "_model_name": "DescriptionStyleModel",
      "_view_count": null,
      "_view_module": "@jupyter-widgets/base",
      "_view_module_version": "1.2.0",
      "_view_name": "StyleView",
      "description_width": ""
     }
    },
    "556a887e09f34ab698d800e4fbcbd824": {
     "model_module": "@jupyter-widgets/base",
     "model_module_version": "1.2.0",
     "model_name": "LayoutModel",
     "state": {
      "_model_module": "@jupyter-widgets/base",
      "_model_module_version": "1.2.0",
      "_model_name": "LayoutModel",
      "_view_count": null,
      "_view_module": "@jupyter-widgets/base",
      "_view_module_version": "1.2.0",
      "_view_name": "LayoutView",
      "align_content": null,
      "align_items": null,
      "align_self": null,
      "border": null,
      "bottom": null,
      "display": null,
      "flex": null,
      "flex_flow": null,
      "grid_area": null,
      "grid_auto_columns": null,
      "grid_auto_flow": null,
      "grid_auto_rows": null,
      "grid_column": null,
      "grid_gap": null,
      "grid_row": null,
      "grid_template_areas": null,
      "grid_template_columns": null,
      "grid_template_rows": null,
      "height": null,
      "justify_content": null,
      "justify_items": null,
      "left": null,
      "margin": null,
      "max_height": null,
      "max_width": null,
      "min_height": null,
      "min_width": null,
      "object_fit": null,
      "object_position": null,
      "order": null,
      "overflow": null,
      "overflow_x": null,
      "overflow_y": null,
      "padding": null,
      "right": null,
      "top": null,
      "visibility": null,
      "width": null
     }
    },
    "59eb1c7ab2fd465082bde3076a3d2b9e": {
     "model_module": "@jupyter-widgets/base",
     "model_module_version": "1.2.0",
     "model_name": "LayoutModel",
     "state": {
      "_model_module": "@jupyter-widgets/base",
      "_model_module_version": "1.2.0",
      "_model_name": "LayoutModel",
      "_view_count": null,
      "_view_module": "@jupyter-widgets/base",
      "_view_module_version": "1.2.0",
      "_view_name": "LayoutView",
      "align_content": null,
      "align_items": null,
      "align_self": null,
      "border": null,
      "bottom": null,
      "display": null,
      "flex": null,
      "flex_flow": null,
      "grid_area": null,
      "grid_auto_columns": null,
      "grid_auto_flow": null,
      "grid_auto_rows": null,
      "grid_column": null,
      "grid_gap": null,
      "grid_row": null,
      "grid_template_areas": null,
      "grid_template_columns": null,
      "grid_template_rows": null,
      "height": null,
      "justify_content": null,
      "justify_items": null,
      "left": null,
      "margin": null,
      "max_height": null,
      "max_width": null,
      "min_height": null,
      "min_width": null,
      "object_fit": null,
      "object_position": null,
      "order": null,
      "overflow": null,
      "overflow_x": null,
      "overflow_y": null,
      "padding": null,
      "right": null,
      "top": null,
      "visibility": null,
      "width": null
     }
    },
    "761053ad59f945cf9be5f332bf8450c8": {
     "model_module": "@jupyter-widgets/controls",
     "model_module_version": "1.5.0",
     "model_name": "ProgressStyleModel",
     "state": {
      "_model_module": "@jupyter-widgets/controls",
      "_model_module_version": "1.5.0",
      "_model_name": "ProgressStyleModel",
      "_view_count": null,
      "_view_module": "@jupyter-widgets/base",
      "_view_module_version": "1.2.0",
      "_view_name": "StyleView",
      "bar_color": null,
      "description_width": ""
     }
    },
    "7ab44620f628495689bdf7e7bb890e4f": {
     "model_module": "@jupyter-widgets/controls",
     "model_module_version": "1.5.0",
     "model_name": "ProgressStyleModel",
     "state": {
      "_model_module": "@jupyter-widgets/controls",
      "_model_module_version": "1.5.0",
      "_model_name": "ProgressStyleModel",
      "_view_count": null,
      "_view_module": "@jupyter-widgets/base",
      "_view_module_version": "1.2.0",
      "_view_name": "StyleView",
      "bar_color": null,
      "description_width": ""
     }
    },
    "7cb9a36306f44f5ea3f593daeb1fc74d": {
     "model_module": "@jupyter-widgets/base",
     "model_module_version": "1.2.0",
     "model_name": "LayoutModel",
     "state": {
      "_model_module": "@jupyter-widgets/base",
      "_model_module_version": "1.2.0",
      "_model_name": "LayoutModel",
      "_view_count": null,
      "_view_module": "@jupyter-widgets/base",
      "_view_module_version": "1.2.0",
      "_view_name": "LayoutView",
      "align_content": null,
      "align_items": null,
      "align_self": null,
      "border": null,
      "bottom": null,
      "display": null,
      "flex": null,
      "flex_flow": null,
      "grid_area": null,
      "grid_auto_columns": null,
      "grid_auto_flow": null,
      "grid_auto_rows": null,
      "grid_column": null,
      "grid_gap": null,
      "grid_row": null,
      "grid_template_areas": null,
      "grid_template_columns": null,
      "grid_template_rows": null,
      "height": null,
      "justify_content": null,
      "justify_items": null,
      "left": null,
      "margin": null,
      "max_height": null,
      "max_width": null,
      "min_height": null,
      "min_width": null,
      "object_fit": null,
      "object_position": null,
      "order": null,
      "overflow": null,
      "overflow_x": null,
      "overflow_y": null,
      "padding": null,
      "right": null,
      "top": null,
      "visibility": null,
      "width": null
     }
    },
    "7e007bea2faa4d7f8515980d02e7d232": {
     "model_module": "@jupyter-widgets/controls",
     "model_module_version": "1.5.0",
     "model_name": "HBoxModel",
     "state": {
      "_dom_classes": [],
      "_model_module": "@jupyter-widgets/controls",
      "_model_module_version": "1.5.0",
      "_model_name": "HBoxModel",
      "_view_count": null,
      "_view_module": "@jupyter-widgets/controls",
      "_view_module_version": "1.5.0",
      "_view_name": "HBoxView",
      "box_style": "",
      "children": [
       "IPY_MODEL_eedb9ed7a4ea44e2868bb50078685dca",
       "IPY_MODEL_c574baede3a54a6e9667d11f6fa8347b",
       "IPY_MODEL_ffe63b23e3894499b29a8b9ec6b6fd4a"
      ],
      "layout": "IPY_MODEL_ee4e51a70e2f4d23978fbd1c7bc0747f"
     }
    },
    "81c49d4d9fe244b4a0f990d789c03237": {
     "model_module": "@jupyter-widgets/base",
     "model_module_version": "1.2.0",
     "model_name": "LayoutModel",
     "state": {
      "_model_module": "@jupyter-widgets/base",
      "_model_module_version": "1.2.0",
      "_model_name": "LayoutModel",
      "_view_count": null,
      "_view_module": "@jupyter-widgets/base",
      "_view_module_version": "1.2.0",
      "_view_name": "LayoutView",
      "align_content": null,
      "align_items": null,
      "align_self": null,
      "border": null,
      "bottom": null,
      "display": null,
      "flex": null,
      "flex_flow": null,
      "grid_area": null,
      "grid_auto_columns": null,
      "grid_auto_flow": null,
      "grid_auto_rows": null,
      "grid_column": null,
      "grid_gap": null,
      "grid_row": null,
      "grid_template_areas": null,
      "grid_template_columns": null,
      "grid_template_rows": null,
      "height": null,
      "justify_content": null,
      "justify_items": null,
      "left": null,
      "margin": null,
      "max_height": null,
      "max_width": null,
      "min_height": null,
      "min_width": null,
      "object_fit": null,
      "object_position": null,
      "order": null,
      "overflow": null,
      "overflow_x": null,
      "overflow_y": null,
      "padding": null,
      "right": null,
      "top": null,
      "visibility": null,
      "width": null
     }
    },
    "96e29b47868248e39356badf3440b92e": {
     "model_module": "@jupyter-widgets/base",
     "model_module_version": "1.2.0",
     "model_name": "LayoutModel",
     "state": {
      "_model_module": "@jupyter-widgets/base",
      "_model_module_version": "1.2.0",
      "_model_name": "LayoutModel",
      "_view_count": null,
      "_view_module": "@jupyter-widgets/base",
      "_view_module_version": "1.2.0",
      "_view_name": "LayoutView",
      "align_content": null,
      "align_items": null,
      "align_self": null,
      "border": null,
      "bottom": null,
      "display": null,
      "flex": null,
      "flex_flow": null,
      "grid_area": null,
      "grid_auto_columns": null,
      "grid_auto_flow": null,
      "grid_auto_rows": null,
      "grid_column": null,
      "grid_gap": null,
      "grid_row": null,
      "grid_template_areas": null,
      "grid_template_columns": null,
      "grid_template_rows": null,
      "height": null,
      "justify_content": null,
      "justify_items": null,
      "left": null,
      "margin": null,
      "max_height": null,
      "max_width": null,
      "min_height": null,
      "min_width": null,
      "object_fit": null,
      "object_position": null,
      "order": null,
      "overflow": null,
      "overflow_x": null,
      "overflow_y": null,
      "padding": null,
      "right": null,
      "top": null,
      "visibility": null,
      "width": null
     }
    },
    "a1d1a48c7dc04d02b33f380db0dccfb1": {
     "model_module": "@jupyter-widgets/controls",
     "model_module_version": "1.5.0",
     "model_name": "HBoxModel",
     "state": {
      "_dom_classes": [],
      "_model_module": "@jupyter-widgets/controls",
      "_model_module_version": "1.5.0",
      "_model_name": "HBoxModel",
      "_view_count": null,
      "_view_module": "@jupyter-widgets/controls",
      "_view_module_version": "1.5.0",
      "_view_name": "HBoxView",
      "box_style": "",
      "children": [
       "IPY_MODEL_b41cdb7ed205418faff0c70e72867f4f",
       "IPY_MODEL_3da2343c4ba6461db0e7ef1b3bd55073",
       "IPY_MODEL_a51dba75e6714190b44d04e358f870d2"
      ],
      "layout": "IPY_MODEL_7cb9a36306f44f5ea3f593daeb1fc74d"
     }
    },
    "a51dba75e6714190b44d04e358f870d2": {
     "model_module": "@jupyter-widgets/controls",
     "model_module_version": "1.5.0",
     "model_name": "HTMLModel",
     "state": {
      "_dom_classes": [],
      "_model_module": "@jupyter-widgets/controls",
      "_model_module_version": "1.5.0",
      "_model_name": "HTMLModel",
      "_view_count": null,
      "_view_module": "@jupyter-widgets/controls",
      "_view_module_version": "1.5.0",
      "_view_name": "HTMLView",
      "description": "",
      "description_tooltip": null,
      "layout": "IPY_MODEL_adb60899dfb2414db088d535ddba95f4",
      "placeholder": "​",
      "style": "IPY_MODEL_0a3f97135bd64d9ab75e32a7f8482919",
      "value": " 466k/466k [00:00&lt;00:00, 22.2MB/s]"
     }
    },
    "adb60899dfb2414db088d535ddba95f4": {
     "model_module": "@jupyter-widgets/base",
     "model_module_version": "1.2.0",
     "model_name": "LayoutModel",
     "state": {
      "_model_module": "@jupyter-widgets/base",
      "_model_module_version": "1.2.0",
      "_model_name": "LayoutModel",
      "_view_count": null,
      "_view_module": "@jupyter-widgets/base",
      "_view_module_version": "1.2.0",
      "_view_name": "LayoutView",
      "align_content": null,
      "align_items": null,
      "align_self": null,
      "border": null,
      "bottom": null,
      "display": null,
      "flex": null,
      "flex_flow": null,
      "grid_area": null,
      "grid_auto_columns": null,
      "grid_auto_flow": null,
      "grid_auto_rows": null,
      "grid_column": null,
      "grid_gap": null,
      "grid_row": null,
      "grid_template_areas": null,
      "grid_template_columns": null,
      "grid_template_rows": null,
      "height": null,
      "justify_content": null,
      "justify_items": null,
      "left": null,
      "margin": null,
      "max_height": null,
      "max_width": null,
      "min_height": null,
      "min_width": null,
      "object_fit": null,
      "object_position": null,
      "order": null,
      "overflow": null,
      "overflow_x": null,
      "overflow_y": null,
      "padding": null,
      "right": null,
      "top": null,
      "visibility": null,
      "width": null
     }
    },
    "b0c223473c964d89bed54ad837dc3c3a": {
     "model_module": "@jupyter-widgets/base",
     "model_module_version": "1.2.0",
     "model_name": "LayoutModel",
     "state": {
      "_model_module": "@jupyter-widgets/base",
      "_model_module_version": "1.2.0",
      "_model_name": "LayoutModel",
      "_view_count": null,
      "_view_module": "@jupyter-widgets/base",
      "_view_module_version": "1.2.0",
      "_view_name": "LayoutView",
      "align_content": null,
      "align_items": null,
      "align_self": null,
      "border": null,
      "bottom": null,
      "display": null,
      "flex": null,
      "flex_flow": null,
      "grid_area": null,
      "grid_auto_columns": null,
      "grid_auto_flow": null,
      "grid_auto_rows": null,
      "grid_column": null,
      "grid_gap": null,
      "grid_row": null,
      "grid_template_areas": null,
      "grid_template_columns": null,
      "grid_template_rows": null,
      "height": null,
      "justify_content": null,
      "justify_items": null,
      "left": null,
      "margin": null,
      "max_height": null,
      "max_width": null,
      "min_height": null,
      "min_width": null,
      "object_fit": null,
      "object_position": null,
      "order": null,
      "overflow": null,
      "overflow_x": null,
      "overflow_y": null,
      "padding": null,
      "right": null,
      "top": null,
      "visibility": null,
      "width": null
     }
    },
    "b2fb8d3050414d6da3ccdd348f9705af": {
     "model_module": "@jupyter-widgets/base",
     "model_module_version": "1.2.0",
     "model_name": "LayoutModel",
     "state": {
      "_model_module": "@jupyter-widgets/base",
      "_model_module_version": "1.2.0",
      "_model_name": "LayoutModel",
      "_view_count": null,
      "_view_module": "@jupyter-widgets/base",
      "_view_module_version": "1.2.0",
      "_view_name": "LayoutView",
      "align_content": null,
      "align_items": null,
      "align_self": null,
      "border": null,
      "bottom": null,
      "display": null,
      "flex": null,
      "flex_flow": null,
      "grid_area": null,
      "grid_auto_columns": null,
      "grid_auto_flow": null,
      "grid_auto_rows": null,
      "grid_column": null,
      "grid_gap": null,
      "grid_row": null,
      "grid_template_areas": null,
      "grid_template_columns": null,
      "grid_template_rows": null,
      "height": null,
      "justify_content": null,
      "justify_items": null,
      "left": null,
      "margin": null,
      "max_height": null,
      "max_width": null,
      "min_height": null,
      "min_width": null,
      "object_fit": null,
      "object_position": null,
      "order": null,
      "overflow": null,
      "overflow_x": null,
      "overflow_y": null,
      "padding": null,
      "right": null,
      "top": null,
      "visibility": null,
      "width": null
     }
    },
    "b41cdb7ed205418faff0c70e72867f4f": {
     "model_module": "@jupyter-widgets/controls",
     "model_module_version": "1.5.0",
     "model_name": "HTMLModel",
     "state": {
      "_dom_classes": [],
      "_model_module": "@jupyter-widgets/controls",
      "_model_module_version": "1.5.0",
      "_model_name": "HTMLModel",
      "_view_count": null,
      "_view_module": "@jupyter-widgets/controls",
      "_view_module_version": "1.5.0",
      "_view_name": "HTMLView",
      "description": "",
      "description_tooltip": null,
      "layout": "IPY_MODEL_b89f7ac49aa34e6ea5e10169da102d12",
      "placeholder": "​",
      "style": "IPY_MODEL_35e7184ebb654a058664c83e434dbe9d",
      "value": "Downloading (…)/main/tokenizer.json: 100%"
     }
    },
    "b7d77628077044adbc49322525dc5209": {
     "model_module": "@jupyter-widgets/controls",
     "model_module_version": "1.5.0",
     "model_name": "HTMLModel",
     "state": {
      "_dom_classes": [],
      "_model_module": "@jupyter-widgets/controls",
      "_model_module_version": "1.5.0",
      "_model_name": "HTMLModel",
      "_view_count": null,
      "_view_module": "@jupyter-widgets/controls",
      "_view_module_version": "1.5.0",
      "_view_name": "HTMLView",
      "description": "",
      "description_tooltip": null,
      "layout": "IPY_MODEL_59eb1c7ab2fd465082bde3076a3d2b9e",
      "placeholder": "​",
      "style": "IPY_MODEL_2580055a92b5492ead49670e4362c221",
      "value": "Downloading model.safetensors: 100%"
     }
    },
    "b89f7ac49aa34e6ea5e10169da102d12": {
     "model_module": "@jupyter-widgets/base",
     "model_module_version": "1.2.0",
     "model_name": "LayoutModel",
     "state": {
      "_model_module": "@jupyter-widgets/base",
      "_model_module_version": "1.2.0",
      "_model_name": "LayoutModel",
      "_view_count": null,
      "_view_module": "@jupyter-widgets/base",
      "_view_module_version": "1.2.0",
      "_view_name": "LayoutView",
      "align_content": null,
      "align_items": null,
      "align_self": null,
      "border": null,
      "bottom": null,
      "display": null,
      "flex": null,
      "flex_flow": null,
      "grid_area": null,
      "grid_auto_columns": null,
      "grid_auto_flow": null,
      "grid_auto_rows": null,
      "grid_column": null,
      "grid_gap": null,
      "grid_row": null,
      "grid_template_areas": null,
      "grid_template_columns": null,
      "grid_template_rows": null,
      "height": null,
      "justify_content": null,
      "justify_items": null,
      "left": null,
      "margin": null,
      "max_height": null,
      "max_width": null,
      "min_height": null,
      "min_width": null,
      "object_fit": null,
      "object_position": null,
      "order": null,
      "overflow": null,
      "overflow_x": null,
      "overflow_y": null,
      "padding": null,
      "right": null,
      "top": null,
      "visibility": null,
      "width": null
     }
    },
    "bfd7db1ad407411c9dfce5be7189c927": {
     "model_module": "@jupyter-widgets/controls",
     "model_module_version": "1.5.0",
     "model_name": "DescriptionStyleModel",
     "state": {
      "_model_module": "@jupyter-widgets/controls",
      "_model_module_version": "1.5.0",
      "_model_name": "DescriptionStyleModel",
      "_view_count": null,
      "_view_module": "@jupyter-widgets/base",
      "_view_module_version": "1.2.0",
      "_view_name": "StyleView",
      "description_width": ""
     }
    },
    "c574baede3a54a6e9667d11f6fa8347b": {
     "model_module": "@jupyter-widgets/controls",
     "model_module_version": "1.5.0",
     "model_name": "FloatProgressModel",
     "state": {
      "_dom_classes": [],
      "_model_module": "@jupyter-widgets/controls",
      "_model_module_version": "1.5.0",
      "_model_name": "FloatProgressModel",
      "_view_count": null,
      "_view_module": "@jupyter-widgets/controls",
      "_view_module_version": "1.5.0",
      "_view_name": "ProgressView",
      "bar_style": "success",
      "description": "",
      "description_tooltip": null,
      "layout": "IPY_MODEL_96e29b47868248e39356badf3440b92e",
      "max": 28,
      "min": 0,
      "orientation": "horizontal",
      "style": "IPY_MODEL_7ab44620f628495689bdf7e7bb890e4f",
      "value": 28
     }
    },
    "c6102ea83d2d4c31bc96e4319228024f": {
     "model_module": "@jupyter-widgets/controls",
     "model_module_version": "1.5.0",
     "model_name": "ProgressStyleModel",
     "state": {
      "_model_module": "@jupyter-widgets/controls",
      "_model_module_version": "1.5.0",
      "_model_name": "ProgressStyleModel",
      "_view_count": null,
      "_view_module": "@jupyter-widgets/base",
      "_view_module_version": "1.2.0",
      "_view_name": "StyleView",
      "bar_color": null,
      "description_width": ""
     }
    },
    "d1ba3ee639a34f849b6b1bd2aec7d962": {
     "model_module": "@jupyter-widgets/controls",
     "model_module_version": "1.5.0",
     "model_name": "HTMLModel",
     "state": {
      "_dom_classes": [],
      "_model_module": "@jupyter-widgets/controls",
      "_model_module_version": "1.5.0",
      "_model_name": "HTMLModel",
      "_view_count": null,
      "_view_module": "@jupyter-widgets/controls",
      "_view_module_version": "1.5.0",
      "_view_name": "HTMLView",
      "description": "",
      "description_tooltip": null,
      "layout": "IPY_MODEL_556a887e09f34ab698d800e4fbcbd824",
      "placeholder": "​",
      "style": "IPY_MODEL_bfd7db1ad407411c9dfce5be7189c927",
      "value": "Downloading (…)solve/main/vocab.txt: 100%"
     }
    },
    "d31707f80f1142179337600c7b444764": {
     "model_module": "@jupyter-widgets/controls",
     "model_module_version": "1.5.0",
     "model_name": "HBoxModel",
     "state": {
      "_dom_classes": [],
      "_model_module": "@jupyter-widgets/controls",
      "_model_module_version": "1.5.0",
      "_model_name": "HBoxModel",
      "_view_count": null,
      "_view_module": "@jupyter-widgets/controls",
      "_view_module_version": "1.5.0",
      "_view_name": "HBoxView",
      "box_style": "",
      "children": [
       "IPY_MODEL_d1ba3ee639a34f849b6b1bd2aec7d962",
       "IPY_MODEL_3514e02782834ed982c510fb0fbd91fd",
       "IPY_MODEL_1225424f7314489cad0c430609a14c8e"
      ],
      "layout": "IPY_MODEL_81c49d4d9fe244b4a0f990d789c03237"
     }
    },
    "d4fdecf5d22c4546964e195ff7052e8e": {
     "model_module": "@jupyter-widgets/base",
     "model_module_version": "1.2.0",
     "model_name": "LayoutModel",
     "state": {
      "_model_module": "@jupyter-widgets/base",
      "_model_module_version": "1.2.0",
      "_model_name": "LayoutModel",
      "_view_count": null,
      "_view_module": "@jupyter-widgets/base",
      "_view_module_version": "1.2.0",
      "_view_name": "LayoutView",
      "align_content": null,
      "align_items": null,
      "align_self": null,
      "border": null,
      "bottom": null,
      "display": null,
      "flex": null,
      "flex_flow": null,
      "grid_area": null,
      "grid_auto_columns": null,
      "grid_auto_flow": null,
      "grid_auto_rows": null,
      "grid_column": null,
      "grid_gap": null,
      "grid_row": null,
      "grid_template_areas": null,
      "grid_template_columns": null,
      "grid_template_rows": null,
      "height": null,
      "justify_content": null,
      "justify_items": null,
      "left": null,
      "margin": null,
      "max_height": null,
      "max_width": null,
      "min_height": null,
      "min_width": null,
      "object_fit": null,
      "object_position": null,
      "order": null,
      "overflow": null,
      "overflow_x": null,
      "overflow_y": null,
      "padding": null,
      "right": null,
      "top": null,
      "visibility": null,
      "width": null
     }
    },
    "de93559b248b43b09dc0bc7013b30c42": {
     "model_module": "@jupyter-widgets/controls",
     "model_module_version": "1.5.0",
     "model_name": "DescriptionStyleModel",
     "state": {
      "_model_module": "@jupyter-widgets/controls",
      "_model_module_version": "1.5.0",
      "_model_name": "DescriptionStyleModel",
      "_view_count": null,
      "_view_module": "@jupyter-widgets/base",
      "_view_module_version": "1.2.0",
      "_view_name": "StyleView",
      "description_width": ""
     }
    },
    "e222c956818344879bf05a7bf4564c2a": {
     "model_module": "@jupyter-widgets/base",
     "model_module_version": "1.2.0",
     "model_name": "LayoutModel",
     "state": {
      "_model_module": "@jupyter-widgets/base",
      "_model_module_version": "1.2.0",
      "_model_name": "LayoutModel",
      "_view_count": null,
      "_view_module": "@jupyter-widgets/base",
      "_view_module_version": "1.2.0",
      "_view_name": "LayoutView",
      "align_content": null,
      "align_items": null,
      "align_self": null,
      "border": null,
      "bottom": null,
      "display": null,
      "flex": null,
      "flex_flow": null,
      "grid_area": null,
      "grid_auto_columns": null,
      "grid_auto_flow": null,
      "grid_auto_rows": null,
      "grid_column": null,
      "grid_gap": null,
      "grid_row": null,
      "grid_template_areas": null,
      "grid_template_columns": null,
      "grid_template_rows": null,
      "height": null,
      "justify_content": null,
      "justify_items": null,
      "left": null,
      "margin": null,
      "max_height": null,
      "max_width": null,
      "min_height": null,
      "min_width": null,
      "object_fit": null,
      "object_position": null,
      "order": null,
      "overflow": null,
      "overflow_x": null,
      "overflow_y": null,
      "padding": null,
      "right": null,
      "top": null,
      "visibility": null,
      "width": null
     }
    },
    "eb1e81d0af1a48e9ab844c1bff62b408": {
     "model_module": "@jupyter-widgets/base",
     "model_module_version": "1.2.0",
     "model_name": "LayoutModel",
     "state": {
      "_model_module": "@jupyter-widgets/base",
      "_model_module_version": "1.2.0",
      "_model_name": "LayoutModel",
      "_view_count": null,
      "_view_module": "@jupyter-widgets/base",
      "_view_module_version": "1.2.0",
      "_view_name": "LayoutView",
      "align_content": null,
      "align_items": null,
      "align_self": null,
      "border": null,
      "bottom": null,
      "display": null,
      "flex": null,
      "flex_flow": null,
      "grid_area": null,
      "grid_auto_columns": null,
      "grid_auto_flow": null,
      "grid_auto_rows": null,
      "grid_column": null,
      "grid_gap": null,
      "grid_row": null,
      "grid_template_areas": null,
      "grid_template_columns": null,
      "grid_template_rows": null,
      "height": null,
      "justify_content": null,
      "justify_items": null,
      "left": null,
      "margin": null,
      "max_height": null,
      "max_width": null,
      "min_height": null,
      "min_width": null,
      "object_fit": null,
      "object_position": null,
      "order": null,
      "overflow": null,
      "overflow_x": null,
      "overflow_y": null,
      "padding": null,
      "right": null,
      "top": null,
      "visibility": null,
      "width": null
     }
    },
    "ee4e51a70e2f4d23978fbd1c7bc0747f": {
     "model_module": "@jupyter-widgets/base",
     "model_module_version": "1.2.0",
     "model_name": "LayoutModel",
     "state": {
      "_model_module": "@jupyter-widgets/base",
      "_model_module_version": "1.2.0",
      "_model_name": "LayoutModel",
      "_view_count": null,
      "_view_module": "@jupyter-widgets/base",
      "_view_module_version": "1.2.0",
      "_view_name": "LayoutView",
      "align_content": null,
      "align_items": null,
      "align_self": null,
      "border": null,
      "bottom": null,
      "display": null,
      "flex": null,
      "flex_flow": null,
      "grid_area": null,
      "grid_auto_columns": null,
      "grid_auto_flow": null,
      "grid_auto_rows": null,
      "grid_column": null,
      "grid_gap": null,
      "grid_row": null,
      "grid_template_areas": null,
      "grid_template_columns": null,
      "grid_template_rows": null,
      "height": null,
      "justify_content": null,
      "justify_items": null,
      "left": null,
      "margin": null,
      "max_height": null,
      "max_width": null,
      "min_height": null,
      "min_width": null,
      "object_fit": null,
      "object_position": null,
      "order": null,
      "overflow": null,
      "overflow_x": null,
      "overflow_y": null,
      "padding": null,
      "right": null,
      "top": null,
      "visibility": null,
      "width": null
     }
    },
    "eedb9ed7a4ea44e2868bb50078685dca": {
     "model_module": "@jupyter-widgets/controls",
     "model_module_version": "1.5.0",
     "model_name": "HTMLModel",
     "state": {
      "_dom_classes": [],
      "_model_module": "@jupyter-widgets/controls",
      "_model_module_version": "1.5.0",
      "_model_name": "HTMLModel",
      "_view_count": null,
      "_view_module": "@jupyter-widgets/controls",
      "_view_module_version": "1.5.0",
      "_view_name": "HTMLView",
      "description": "",
      "description_tooltip": null,
      "layout": "IPY_MODEL_1618aaee44e54c36be9ba83f3258121f",
      "placeholder": "​",
      "style": "IPY_MODEL_1891e644ac4f4855ba6eba60d0415a32",
      "value": "Downloading (…)okenizer_config.json: 100%"
     }
    },
    "f07df78b29ba400c92ca8fdd479117bb": {
     "model_module": "@jupyter-widgets/base",
     "model_module_version": "1.2.0",
     "model_name": "LayoutModel",
     "state": {
      "_model_module": "@jupyter-widgets/base",
      "_model_module_version": "1.2.0",
      "_model_name": "LayoutModel",
      "_view_count": null,
      "_view_module": "@jupyter-widgets/base",
      "_view_module_version": "1.2.0",
      "_view_name": "LayoutView",
      "align_content": null,
      "align_items": null,
      "align_self": null,
      "border": null,
      "bottom": null,
      "display": null,
      "flex": null,
      "flex_flow": null,
      "grid_area": null,
      "grid_auto_columns": null,
      "grid_auto_flow": null,
      "grid_auto_rows": null,
      "grid_column": null,
      "grid_gap": null,
      "grid_row": null,
      "grid_template_areas": null,
      "grid_template_columns": null,
      "grid_template_rows": null,
      "height": null,
      "justify_content": null,
      "justify_items": null,
      "left": null,
      "margin": null,
      "max_height": null,
      "max_width": null,
      "min_height": null,
      "min_width": null,
      "object_fit": null,
      "object_position": null,
      "order": null,
      "overflow": null,
      "overflow_x": null,
      "overflow_y": null,
      "padding": null,
      "right": null,
      "top": null,
      "visibility": null,
      "width": null
     }
    },
    "f0bc9df6fa114aec8029601957488255": {
     "model_module": "@jupyter-widgets/controls",
     "model_module_version": "1.5.0",
     "model_name": "FloatProgressModel",
     "state": {
      "_dom_classes": [],
      "_model_module": "@jupyter-widgets/controls",
      "_model_module_version": "1.5.0",
      "_model_name": "FloatProgressModel",
      "_view_count": null,
      "_view_module": "@jupyter-widgets/controls",
      "_view_module_version": "1.5.0",
      "_view_name": "ProgressView",
      "bar_style": "success",
      "description": "",
      "description_tooltip": null,
      "layout": "IPY_MODEL_d4fdecf5d22c4546964e195ff7052e8e",
      "max": 440449768,
      "min": 0,
      "orientation": "horizontal",
      "style": "IPY_MODEL_c6102ea83d2d4c31bc96e4319228024f",
      "value": 440449768
     }
    },
    "ffe63b23e3894499b29a8b9ec6b6fd4a": {
     "model_module": "@jupyter-widgets/controls",
     "model_module_version": "1.5.0",
     "model_name": "HTMLModel",
     "state": {
      "_dom_classes": [],
      "_model_module": "@jupyter-widgets/controls",
      "_model_module_version": "1.5.0",
      "_model_name": "HTMLModel",
      "_view_count": null,
      "_view_module": "@jupyter-widgets/controls",
      "_view_module_version": "1.5.0",
      "_view_name": "HTMLView",
      "description": "",
      "description_tooltip": null,
      "layout": "IPY_MODEL_13c2df6551384a8a8f0137e784d7345f",
      "placeholder": "​",
      "style": "IPY_MODEL_de93559b248b43b09dc0bc7013b30c42",
      "value": " 28.0/28.0 [00:00&lt;00:00, 1.01kB/s]"
     }
    }
   }
  }
 },
 "nbformat": 4,
 "nbformat_minor": 1
}
